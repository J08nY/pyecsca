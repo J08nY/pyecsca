{
 "cells": [
  {
   "cell_type": "code",
   "execution_count": null,
   "metadata": {},
   "outputs": [],
   "source": [
    "from pyecsca.ec.model import ShortWeierstrassModel, MontgomeryModel, TwistedEdwardsModel\n",
    "from pyecsca.ec.formula_gen.test import load_efd_formulas, load_library_formulas\n",
    "from pyecsca.ec.formula_gen.formula_graph import EFDFormulaGraph, rename_ivs\n",
    "from pyecsca.ec.formula_gen.fliparoo import generate_fliparood_formulas, greedy_fliparoo, recursive_fliparoo\n",
    "import pyecsca.ec.formula_gen.metrics as metrics\n",
    "from pyecsca.ec.formula_gen.switch_sign import generate_switched_formulas\n",
    "from tqdm.notebook import tqdm"
   ]
  },
  {
   "cell_type": "code",
   "execution_count": null,
   "metadata": {},
   "outputs": [],
   "source": [
    "\"\"\" Draw formula \"\"\"\n",
    "coordinate_name = \"jacobian\"\n",
    "model = ShortWeierstrassModel\n",
    "name = \"add-1998-cmo-2\"\n",
    "formula = load_efd_formulas(coordinate_name,model)[name]\n",
    "graph = EFDFormulaGraph()\n",
    "graph.construct_graph(formula)\n",
    "graph.draw()"
   ]
  },
  {
   "cell_type": "code",
   "execution_count": null,
   "metadata": {},
   "outputs": [],
   "source": [
    "\"\"\" Draw all formulas \"\"\"\n",
    "coordinate_name = \"jacobian\"\n",
    "model = ShortWeierstrassModel\n",
    "for name, formula in load_efd_formulas(coordinate_name,model).items():\n",
    "    graph = EFDFormulaGraph()\n",
    "    graph.construct_graph(formula)\n",
    "    graph.draw(f\"{coordinate_name}:{name}.png\")"
   ]
  },
  {
   "cell_type": "code",
   "execution_count": null,
   "metadata": {},
   "outputs": [],
   "source": [
    "\"\"\"Measure similarity of fliparood formulas \"\"\"\n",
    "coordinate_name = \"jacobian\"\n",
    "model = ShortWeierstrassModel\n",
    "name = \"add-1998-cmo-2\"\n",
    "formula = load_efd_formulas(coordinate_name,model)[name]\n",
    "for _,fliparood in generate_fliparood_formulas(formula):\n",
    "    print(metrics.formula_similarity(formula,fliparood))"
   ]
  },
  {
   "cell_type": "code",
   "execution_count": null,
   "metadata": {},
   "outputs": [],
   "source": [
    "\"\"\"Greedy fliparoo to connect two formulas \"\"\"\n",
    "coordinate_name = \"jacobian-3\"\n",
    "model = ShortWeierstrassModel\n",
    "name = \"add-1998-cmo-2\"\n",
    "formula = load_efd_formulas(coordinate_name,model)[name]\n",
    "lib_formula = load_library_formulas()[\"add-openssl-z256\"]\n",
    "metric = lambda x: metrics.formula_similarity(x,formula)[\"ivs\"]\n",
    "flips, closest, sim = greedy_fliparoo(lib_formula,metric)\n",
    "print(f\"Number of flips: {flips}, similarity: {sim}\")"
   ]
  },
  {
   "cell_type": "code",
   "execution_count": null,
   "metadata": {},
   "outputs": [],
   "source": [
    "\"\"\" Generate all fliparoos for efd formulas \"\"\"\n",
    "depth = 2\n",
    "fliparood = {}\n",
    "efd = load_efd_formulas(\"projective\",ShortWeierstrassModel)\n",
    "for name, formula in tqdm(efd.items()):\n",
    "    fliparood[name] = recursive_fliparoo(formula,depth)\n"
   ]
  },
  {
   "cell_type": "code",
   "execution_count": null,
   "metadata": {},
   "outputs": [],
   "source": [
    "\"\"\" Generate all switch-signed formulas for fliparoos formulas \"\"\"\n",
    "switch_signed = {}\n",
    "for name, fliparoo_neighborhood in tqdm(fliparood.items()):\n",
    "    switch_signed[name] = list()\n",
    "    for chains,flip_f in fliparoo_neighborhood:\n",
    "        switch_signed[name].extend((chains,s,f) for s,f in generate_switched_formulas(flip_f))"
   ]
  },
  {
   "cell_type": "code",
   "execution_count": null,
   "metadata": {},
   "outputs": [],
   "source": [
    "\"\"\" Match library formulas for the expanded efd formulas\"\"\"\n",
    "expanded_efd = sum(map(list,switch_signed.values()),[]) \n",
    "coordinates = \"projective\"\n",
    "library_formulas = load_library_formulas(coordinates)\n",
    "\n",
    "for name,formula in tqdm(library_formulas.items()):\n",
    "    similarities = {}\n",
    "    metric = lambda x: metrics.formula_similarity(x[2],formula)[\"ivs\"]\n",
    "    chains, switch, closest_efd = max(expanded_efd,key = metric)\n",
    "    similarity = metric(closest_efd)\n",
    "    print(f\"{name}. Closest match: {closest_efd.name}, similarity={similarity}, fliparoos={len(chains)}, switches={len(switch)}\")"
   ]
  }
 ],
 "metadata": {
  "kernelspec": {
   "display_name": "env",
   "language": "python",
   "name": "python3"
  },
  "language_info": {
   "codemirror_mode": {
    "name": "ipython",
    "version": 3
   },
   "file_extension": ".py",
   "mimetype": "text/x-python",
   "name": "python",
   "nbconvert_exporter": "python",
   "pygments_lexer": "ipython3",
   "version": "3.10.12"
  },
  "orig_nbformat": 4
 },
 "nbformat": 4,
 "nbformat_minor": 2
}
